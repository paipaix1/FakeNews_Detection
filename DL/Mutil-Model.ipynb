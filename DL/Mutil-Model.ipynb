{
 "cells": [
  {
   "cell_type": "markdown",
   "source": [
    "### 导入库函数"
   ],
   "metadata": {}
  },
  {
   "cell_type": "code",
   "execution_count": 41,
   "source": [
    "import time\r\n",
    "import pandas as pd\r\n",
    "import numpy as np\r\n",
    "import torch\r\n",
    "from torch.utils.data import DataLoader, TensorDataset\r\n",
    "from sklearn.model_selection import train_test_split \r\n",
    "import jieba\r\n",
    "import random\r\n",
    "from sklearn.metrics import precision_score, recall_score, f1_score, accuracy_score, roc_auc_score ,roc_curve\r\n",
    "import torch.nn.functional as F\r\n",
    "import torch.nn as nn\r\n",
    "import torch.optim as optim\r\n",
    "import matplotlib.pyplot as plt"
   ],
   "outputs": [],
   "metadata": {}
  },
  {
   "cell_type": "markdown",
   "source": [
    "### 读取数据"
   ],
   "metadata": {}
  },
  {
   "cell_type": "code",
   "execution_count": 44,
   "source": [
    "def get_data(path):  \r\n",
    "\r\n",
    "    df = pd.read_csv(path)\r\n",
    "    df_sample = df.sample(n=10000, random_state=42) #随机抽取10000个样本\r\n",
    "    corpus = df_sample['Title']\r\n",
    "    labels = df_sample['label']\r\n",
    "    return corpus, labels  \r\n",
    "\r\n",
    "\r\n",
    "corpus, labels = get_data('./Data/train.news.csv')     # 获取数据集\r\n",
    "print(corpus[0])                # 示例输出\r\n",
    "print(labels[0])                \r\n",
    "print(\"总的数据量:\", len(labels)) "
   ],
   "outputs": [
    {
     "output_type": "stream",
     "name": "stdout",
     "text": [
      "中国反腐风刮到阿根廷，这个美到让人瘫痪的女总统，因为8个本子摊上大事了\n",
      "0\n",
      "总的数据量: 10000\n"
     ]
    }
   ],
   "metadata": {}
  },
  {
   "cell_type": "markdown",
   "source": [
    "### 数据预处理"
   ],
   "metadata": {}
  },
  {
   "cell_type": "code",
   "execution_count": 45,
   "source": [
    "def remove_empty_docs(corpus, labels):  \r\n",
    "    '''\r\n",
    "    功能：重新整合新闻及标签，去除空白新闻\r\n",
    "    zip(corpus, labels),控制同时遍历corpus和labels\r\n",
    "    doc.strip(),去除文本首尾空格和换行符，如果有非空字符，返回真\r\n",
    "    '''\r\n",
    "    filtered_corpus = []  \r\n",
    "    filtered_labels = []  \r\n",
    "    for doc, label in zip(corpus, labels):  \r\n",
    "        if doc.strip():  \r\n",
    "            filtered_corpus.append(doc)  \r\n",
    "            filtered_labels.append(label)  \r\n",
    "  \r\n",
    "    return filtered_corpus, filtered_labels \r\n",
    "\r\n",
    "def load_embeddings(path, dimension=300):\r\n",
    "    '''\r\n",
    "    功能：加载预训练词向量，构建从词到向量的映射\r\n",
    "    dimension=300,表示词向量维度是300\r\n",
    "    ''' \r\n",
    "    word_vecs = {} \r\n",
    "    with open(path, 'r', encoding='UTF-8') as f: \r\n",
    "        n, _ = map(int, f.readline().strip().split()) #读取词向量的个数和维度\r\n",
    "        for line in f: #遍历文件的每一行，从第二行开始\r\n",
    "            parts = line.strip().split() #strip会移除头尾的空白字符，split会将每行按空格分割，parts形如[\"山峰\",\"0.124\",\"-0.234\",...]\r\n",
    "            word = ' '.join(parts[:-dimension])  #从parts列表中删除最后300个元素之外的所有元素，然后将其连接，不使用parts[0]是因为有些词可能包含空格，如part[1]也是汉字\r\n",
    "            vec = list(map(float, parts[-dimension:])) #将parts列表中最后300个元素转换为浮点数，list是将map的结果转换为列表\r\n",
    "            word_vecs[word] = vec #将词到向量的映射存入词典\r\n",
    "    return word_vecs #word_vecs形如{\"山峰\":[0.124,-0.234,...],\"河流\":[0.234,0.123,...],...}\r\n",
    "\r\n",
    "# 构建词典\r\n",
    "word_vecs = load_embeddings('Data/sgns.sogounews.bigram-char')\r\n",
    "\r\n",
    "# 数据清洗\r\n",
    "corpus, labels = remove_empty_docs(corpus, labels) \r\n",
    "print(corpus[0])      # 输出处理后的第一封邮件(换行符被处理在字符串中)\r\n",
    "print(labels[0])      \r\n",
    "print(\"总的数据量:\", len(labels))  "
   ],
   "outputs": [
    {
     "output_type": "stream",
     "name": "stdout",
     "text": [
      "冯小刚还不知道自己是怎么死的！\n",
      "1\n",
      "总的数据量: 10000\n"
     ]
    }
   ],
   "metadata": {}
  },
  {
   "cell_type": "markdown",
   "source": [
    "### 划分数据集"
   ],
   "metadata": {}
  },
  {
   "cell_type": "code",
   "execution_count": 46,
   "source": [
    "def prepare_datasets(corpus, labels, test_data_proportion=0.3):  \r\n",
    "    '''\r\n",
    "    功能：划分数据集\r\n",
    "    test_size=0.3，测试集30%，训练集70%\r\n",
    "    random_state=42，设置随机种子，确保每次切割结果一致\r\n",
    "    '''  \r\n",
    "    train_X, test_X, train_Y, test_Y = train_test_split(corpus, labels, test_size = test_data_proportion, random_state=42)  \r\n",
    "    return train_X, test_X, train_Y, test_Y\r\n",
    "\r\n",
    "train_corpus, test_corpus, train_labels, test_labels = prepare_datasets(corpus,  labels,  test_data_proportion=0.3)  \r\n",
    "print('训练集样本数量：%d，测试样本数量：%d'%(len(train_corpus),len(test_corpus)))\r\n",
    "print(train_corpus[101],train_labels[101])\r\n",
    "print(test_corpus[3],test_labels[3]) "
   ],
   "outputs": [
    {
     "output_type": "stream",
     "name": "stdout",
     "text": [
      "训练集样本数量：7000，测试样本数量：3000\n",
      "中美贸易战后，中国印钞厂70幅内部照曝光，简直亮瞎了！ 0\n",
      "台湾提出统一条件：一国两区，国名为“中华共和国” 0\n"
     ]
    }
   ],
   "metadata": {}
  },
  {
   "cell_type": "markdown",
   "source": [
    "### 样本标准化"
   ],
   "metadata": {}
  },
  {
   "cell_type": "code",
   "execution_count": 47,
   "source": [
    "def text_to_matrix(text, word_vecs, max_words):\r\n",
    "    '''\r\n",
    "    功能：将标题进行分词，再将词转为词向量(依据已有的预训练词典)\r\n",
    "    '''\r\n",
    "    words = jieba.lcut(text) #words类似于[\"山峰\",\"河流\"]\r\n",
    "    matrix = np.zeros((max_words, 300)) #matrix形如[[0,0,...,0],[0,0,...,0],...]，有40行，每行有300个0\r\n",
    "    for i, word in enumerate(words[:max_words]): #word形如\"山峰\"，i是下标例如7，:max_words是防止越界\r\n",
    "        if word in word_vecs: #如果\"山峰\"在word_vecs中\r\n",
    "            matrix[i] = word_vecs[word] #得到\"山峰\"的词向量，存入matrix的第i行\r\n",
    "    return matrix #matrix形如[[0.124,-0.234,...],[0.234,0.123,...],...]，对应\"山峰河流\"...，如果words较少，后面的行全是0\r\n",
    "\r\n",
    "# 测试标题最大词语组成数量\r\n",
    "max_words = 40\r\n",
    "print(\"max_words:\",max_words)\r\n",
    "\r\n",
    "# 文本转向量\r\n",
    "# X_train类似于[[[Titile1的预训练词向量],[Title1的预训练词向量]],[[Title2的预训练词向量],[Title2的预训练词向量]],[[...],[...]]]\r\n",
    "X_train = np.array([text_to_matrix(title, word_vecs, max_words) for title in train_corpus]) # 训练集\r\n",
    "y_train = train_labels\r\n",
    "X_validation = np.array([text_to_matrix(title, word_vecs, max_words) for title in test_corpus]) #验证集\r\n",
    "y_validation = test_labels\r\n",
    "\r\n",
    "#  Numpy数组转换为PyTorch张量，直接用torch.tensor函数\r\n",
    "X_train = torch.tensor(X_train, dtype=torch.float32)\r\n",
    "y_train = torch.tensor(y_train, dtype=torch.long)\r\n",
    "X_validation = torch.tensor(X_validation, dtype=torch.float32)\r\n",
    "y_validation = torch.tensor(y_validation, dtype=torch.long)\r\n",
    "print(\"shape of 4 tensors:\",X_train.shape,y_train.shape,X_validation.shape,y_validation.shape)\r\n",
    "\r\n",
    "# 组合拼接新闻标题与标签\r\n",
    "train_dataset = TensorDataset(X_train, y_train)\r\n",
    "validation_dataset = TensorDataset(X_validation, y_validation)\r\n",
    "\r\n",
    "# DataLoader是一个迭代器，每次迭代会返回一个batch的数据,其中dataset是数据集，batch_size是每个batch的大小，shuffle是是否打乱数据\r\n",
    "# for texts, labels in train_loader，其中texts: torch.Size([64, 40, 300])相当于64个标题 。labels: torch.Size([64])相当于64个标签\r\n",
    "train_loader = DataLoader(dataset=train_dataset, batch_size=64, shuffle=True)\r\n",
    "validation_loader = DataLoader(dataset=validation_dataset, batch_size=64, shuffle=False)#千万不要打乱，否则预测和实际标签无法对应"
   ],
   "outputs": [
    {
     "output_type": "stream",
     "name": "stdout",
     "text": [
      "max_words: 40\n",
      "shape of 4 tensors: torch.Size([7000, 40, 300]) torch.Size([7000]) torch.Size([3000, 40, 300]) torch.Size([3000])\n"
     ]
    }
   ],
   "metadata": {}
  },
  {
   "cell_type": "markdown",
   "source": [
    "### 模型"
   ],
   "metadata": {}
  },
  {
   "cell_type": "code",
   "execution_count": 60,
   "source": [
    "class RNNModel(nn.Module):\r\n",
    "    def __init__(self, input_dim, hidden_dim, output_dim, n_layers):\r\n",
    "        super(RNNModel, self).__init__()\r\n",
    "        self.rnn = nn.RNN(input_dim, hidden_dim, n_layers, batch_first=True)\r\n",
    "        #input_dim是输入的特征维度，hidden_dim是隐藏层的维度，n_layers是RNN的层数，batch_first=True表示期待输入的张量形状是(batch, seq, feature)\r\n",
    "        self.fc = nn.Linear(hidden_dim, output_dim) #全连接层，将隐藏层的输出映射到输出维度\r\n",
    "\r\n",
    "    def forward(self, x):\r\n",
    "        out, hidden = self.rnn(x)\r\n",
    "        # out.shape = torch.Size([64, 40, 64])，表示64个标题，每个标题40个词，每个词64维的隐藏层输出\r\n",
    "        # hidden.shape = torch.Size([2, 64, 64])，表示2层RNN，每层64个标题，每个标题64维的隐藏层输出\r\n",
    "        out = self.fc(out[:, -1, :])\r\n",
    "        # out.shape = torch.Size([64, 2])，表示64个标题，每个标题的预测结果\r\n",
    "        return out\r\n",
    "\r\n",
    "class LSTMModel(nn.Module):\r\n",
    "    def __init__(self, input_dim, hidden_dim, output_dim, n_layers):\r\n",
    "        super(LSTMModel, self).__init__()\r\n",
    "        self.lstm = nn.LSTM(input_dim, hidden_dim, n_layers, batch_first=True)\r\n",
    "        self.fc = nn.Linear(hidden_dim, output_dim)\r\n",
    "\r\n",
    "    def forward(self, x):\r\n",
    "        out, (hidden, cell) = self.lstm(x)\r\n",
    "        out = self.fc(out[:, -1, :])\r\n",
    "        return out\r\n",
    "\r\n",
    "class SimpleCNN(nn.Module):\r\n",
    "    def __init__(self):\r\n",
    "        super(SimpleCNN, self).__init__()\r\n",
    "        self.conv1 = nn.Conv1d(in_channels=300, out_channels=64, kernel_size=3, stride=1, padding=1)\r\n",
    "        self.pool = nn.MaxPool1d(kernel_size=2, stride=2, padding=0)\r\n",
    "        self.fc = nn.Linear(1280, 2)\r\n",
    "\r\n",
    "    def forward(self, x):\r\n",
    "        # x.shape: torch.Size([64, 40, 300])\r\n",
    "        x = x.permute(0, 2, 1)              # x.shape: torch.Size([64, 300, 40])\r\n",
    "        x = self.conv1(x)                   # x.shape: torch.Size([64, 64, 40])\r\n",
    "        x = F.relu(x)                       # x.shape: torch.Size([64, 64, 40])\r\n",
    "        x = self.pool(x)                    # x.shape: torch.Size([64, 64, 20])\r\n",
    "        x = x.view(x.size(0), -1)           # x.shape: torch.Size([64, 1280])\r\n",
    "        x = self.fc(x)                      # x.shape: torch.Size([64, 2])\r\n",
    "        return x\r\n",
    "\r\n",
    "class GRUModel(nn.Module):\r\n",
    "    def __init__(self, input_dim, hidden_dim, output_dim, n_layers):\r\n",
    "        super(GRUModel, self).__init__()\r\n",
    "        self.gru = nn.GRU(input_dim, hidden_dim, n_layers, batch_first=True)\r\n",
    "        self.fc = nn.Linear(hidden_dim, output_dim)\r\n",
    "\r\n",
    "    def forward(self, x):\r\n",
    "        out, hidden = self.gru(x)\r\n",
    "        out = self.fc(out[:, -1, :])\r\n",
    "        return out\r\n",
    "\r\n",
    "# model_RNN = RNNModel(input_dim=300, hidden_dim=64, output_dim=2, n_layers=2)\r\n",
    "# model_LSTM = LSTMModel(input_dim=300, hidden_dim=256, output_dim=2, n_layers=2)\r\n",
    "# model_CNN = SimpleCNN()\r\n",
    "model_GRU = GRUModel(input_dim=300, hidden_dim=128, output_dim=2, n_layers=2)\r\n",
    "\r\n",
    "criterion = nn.CrossEntropyLoss()   # 分类任务用交叉熵作为损失函数\r\n",
    "optimizer = optim.Adam(model_GRU.parameters())  # Adam优化器"
   ],
   "outputs": [],
   "metadata": {}
  },
  {
   "cell_type": "markdown",
   "source": [
    "### 模型训练与评估"
   ],
   "metadata": {}
  },
  {
   "cell_type": "code",
   "execution_count": 61,
   "source": [
    "def train(model,train_loader):\r\n",
    "    model.train()\r\n",
    "    start_time = time.time()\r\n",
    "    for epoch in range(10):  # 进行多轮训练\r\n",
    "        for texts, labels in train_loader:\r\n",
    "            optimizer.zero_grad()   # 清除之前的梯度\r\n",
    "            outputs = model(texts)  # 前向传播，out.shape = torch.Size([64, 2])，表示64个标题，2表示两个类别\r\n",
    "            loss = criterion(outputs, labels)   # 计算损失\r\n",
    "            loss.backward()     # 反向传播\r\n",
    "            torch.nn.utils.clip_grad_norm_(model.parameters(), 0.5) # 梯度规范化，防止出现梯度消失或爆炸\r\n",
    "            optimizer.step()    # 更新参数，主要工作之一确实是梯度下降\r\n",
    "        use_time = time.time() - start_time\r\n",
    "        print(f'Epoch: {epoch+1}, Loss: {loss.item()}, Time: {use_time}')#打印每个epoch的损失值\r\n",
    "        start_time = time.time()\r\n",
    "\r\n",
    "\r\n",
    "def evaluate(model,validation_loader):\r\n",
    "    model.eval()\r\n",
    "    y_pred = []\r\n",
    "    y_true = []\r\n",
    "    probabilities = []\r\n",
    "    with torch.no_grad():   # 不需要计算梯度\r\n",
    "        for texts, labels in validation_loader: \r\n",
    "            outputs = model(texts) \r\n",
    "            _, predicted = torch.max(outputs.data, 1) # 取出每个标题的预测结果中概率最大的那个类别，predicted.shape = torch.Size([64])，形如[1,1,...]\r\n",
    "            y_pred.extend(predicted.numpy()) # 将predicted转换为numpy数组，然后加入y_pred\r\n",
    "            probs = F.softmax(outputs, dim=1)\r\n",
    "            probabilities.extend(probs[:, 1].numpy())\r\n",
    "            y_true.extend(labels.numpy())\r\n",
    "\r\n",
    "    # metrics\r\n",
    "    precision_0 = precision_score(y_true, y_pred, pos_label=0)\r\n",
    "    recall_0 = recall_score(y_true, y_pred, pos_label=0)\r\n",
    "    f1_0 = f1_score(y_true, y_pred, pos_label=0)\r\n",
    "    precision_1 = precision_score(y_true, y_pred, pos_label=1)\r\n",
    "    recall_1 = recall_score(y_true, y_pred, pos_label=1)\r\n",
    "    f1_1 = f1_score(y_true, y_pred, pos_label=1)\r\n",
    "    accuracy = accuracy_score(y_true, y_pred)\r\n",
    "    auc = roc_auc_score(y_true, probabilities)\r\n",
    "    print(f\"Precision on Real Label (0): {precision_0}\")\r\n",
    "    print(f\"Recall on Real Label (0): {recall_0}\")\r\n",
    "    print(f\"F1 Score on Real Label (0): {f1_0}\")\r\n",
    "    print(f\"Precision on False Label (1): {precision_1}\")\r\n",
    "    print(f\"Recall on False Label (1): {recall_1}\")\r\n",
    "    print(f\"F1 Score on False Label (1): {f1_1}\")\r\n",
    "    print(f\"Overall Accuracy: {accuracy}\")\r\n",
    "    print(f\"AUC: {auc}\")\r\n",
    "\r\n",
    "    # 使用matplotlib绘制ROC曲线\r\n",
    "    fpr, tpr, thresholds = roc_curve(y_true, probabilities)\r\n",
    "    plt.figure()\r\n",
    "    plt.plot(fpr, tpr, color='darkorange', lw=2, label='ROC curve (area = %0.2f)' % auc)\r\n",
    "    plt.plot([0, 1], [0, 1], color='navy', lw=2, linestyle='--')\r\n",
    "    plt.xlim([0.0, 1.0])\r\n",
    "    plt.ylim([0.0, 1.05])\r\n",
    "    plt.xlabel('False Positive Rate')\r\n",
    "    plt.ylabel('True Positive Rate')\r\n",
    "    plt.title('Receiver Operating Characteristic (ROC)')\r\n",
    "    plt.legend(loc=\"lower right\")\r\n",
    "    plt.show()\r\n",
    "\r\n",
    "# 训练\r\n",
    "train(model_GRU,train_loader)\r\n",
    "# 评估\r\n",
    "evaluate(model_GRU,validation_loader)"
   ],
   "outputs": [],
   "metadata": {}
  },
  {
   "cell_type": "markdown",
   "source": [
    "### 投入测试集"
   ],
   "metadata": {}
  },
  {
   "cell_type": "code",
   "execution_count": 59,
   "source": [
    "# 加载测试集\r\n",
    "def load_dataset(file_path):\r\n",
    "    df = pd.read_csv(file_path)\r\n",
    "    X = np.array([text_to_matrix(title, word_vecs, max_words) for title in df['Title']])\r\n",
    "    y = df['label'].values\r\n",
    "    X = torch.tensor(X, dtype=torch.float32)\r\n",
    "    y = torch.tensor(y, dtype=torch.long)\r\n",
    "    return X, y\r\n",
    "\r\n",
    "X_test, y_test = load_dataset('./Data/test.news.csv')\r\n",
    "test_dataset = TensorDataset(X_test, y_test)\r\n",
    "test_loader = DataLoader(dataset=test_dataset, batch_size=64, shuffle=False)\r\n",
    "\r\n",
    "# 在测试集上评估模型\r\n",
    "print(\"Evaluation on Test Set:\")\r\n",
    "evaluate(model_GRU,test_loader)\r\n",
    "\r\n",
    "# 遍历字典并写入文件\r\n",
    "# with open('./Data/usefulWordVec.txt', 'w', encoding='utf-8') as f:\r\n",
    "#     for word, vec in word_vecs.items():\r\n",
    "#         line = f\"{word} {' '.join(map(str, vec))}\\n\"\r\n",
    "#         f.write(line)"
   ],
   "outputs": [
    {
     "output_type": "stream",
     "name": "stdout",
     "text": [
      "Evaluation on Test Set:\n",
      "Precision on Real Label (0): 0.9133925703886093\n",
      "Recall on Real Label (0): 0.9853331793509643\n",
      "F1 Score on Real Label (0): 0.948\n",
      "Precision on False Label (1): 0.84125\n",
      "Recall on False Label (1): 0.4541160593792173\n",
      "F1 Score on False Label (1): 0.5898334794040315\n",
      "Overall Accuracy: 0.9077014101173454\n",
      "AUC: 0.8453267364044711\n"
     ]
    },
    {
     "output_type": "display_data",
     "data": {
      "text/plain": [
       "<Figure size 640x480 with 1 Axes>"
      ],
      "image/png": "[encoded data removed]"
     },
     "metadata": {}
    }
   ],
   "metadata": {}
  }
 ],
 "metadata": {
  "orig_nbformat": 4,
  "language_info": {
   "name": "python",
   "version": "3.9.18",
   "mimetype": "text/x-python",
   "codemirror_mode": {
    "name": "ipython",
    "version": 3
   },
   "pygments_lexer": "ipython3",
   "nbconvert_exporter": "python",
   "file_extension": ".py"
  },
  "kernelspec": {
   "name": "python3",
   "display_name": "Python 3.9.18 64-bit"
  },
  "interpreter": {
   "hash": "a3525df8de6fccdb833c6f55bb2d91ae8d8eb60979ee404447b318d93de5ec75"
  }
 },
 "nbformat": 4,
 "nbformat_minor": 2
}